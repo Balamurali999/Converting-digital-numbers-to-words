{
 "cells": [
  {
   "cell_type": "code",
   "execution_count": 1,
   "id": "5c341624",
   "metadata": {},
   "outputs": [],
   "source": [
    "num2words = {1: 'One', 2: 'Two', 3: 'Three', 4: 'Four', 5: 'Five', \\\n",
    "             6: 'Six', 7: 'Seven', 8: 'Eight', 9: 'Nine', 10: 'Ten', \\\n",
    "            11: 'Eleven', 12: 'Twelve', 13: 'Thirteen', 14: 'Fourteen', \\\n",
    "            15: 'Fifteen', 16: 'Sixteen', 17: 'Seventeen', 18: 'Eighteen', \\\n",
    "            19: 'Nineteen', 20: 'Twenty', 30: 'Thirty', 40: 'Forty', \\\n",
    "            50: 'Fifty', 60: 'Sixty', 70: 'Seventy', 80: 'Eighty', \\\n",
    "            90: 'Ninety', 0: 'Zero'}"
   ]
  },
  {
   "cell_type": "code",
   "execution_count": 2,
   "id": "d01fa67c",
   "metadata": {},
   "outputs": [],
   "source": [
    "hundreds = [0]\n",
    "for i in range(1,9):\n",
    "    hundreds.append(num2words[i] + ' hundred')\n",
    "thousands = [0]\n",
    "for i in range(1,9):\n",
    "    thousands.append(num2words[i] + ' thousand')"
   ]
  },
  {
   "cell_type": "code",
   "execution_count": 3,
   "id": "f81722d6",
   "metadata": {},
   "outputs": [],
   "source": [
    "def number2word(n):\n",
    "    try:\n",
    "        print(num2words[n])\n",
    "    except KeyError:\n",
    "        try:\n",
    "            for i in range(len(str(n))):\n",
    "                n = int(n)\n",
    "                if n>999:\n",
    "                    print(thousands[(n - n%1000)//1000], end=' ' )\n",
    "                    n = n%1000\n",
    "                elif n>99:\n",
    "                    print(hundreds[(n%1000 - n%10)//100], end=' ' )\n",
    "                    n = n%100\n",
    "                elif n>9:\n",
    "                    print(num2words[n-n%10], end=' ')\n",
    "                    n = n%10\n",
    "                elif n>=0:\n",
    "                    print(num2words[n])\n",
    "        except KeyError:\n",
    "            print('Number out of range')"
   ]
  },
  {
   "cell_type": "code",
   "execution_count": 4,
   "id": "29873775",
   "metadata": {},
   "outputs": [
    {
     "name": "stdout",
     "output_type": "stream",
     "text": [
      "4561\n",
      "Four thousand Five hundred Sixty One\n"
     ]
    }
   ],
   "source": [
    "n = input()\n",
    "number2word(n)"
   ]
  }
 ],
 "metadata": {
  "kernelspec": {
   "display_name": "Python 3 (ipykernel)",
   "language": "python",
   "name": "python3"
  },
  "language_info": {
   "codemirror_mode": {
    "name": "ipython",
    "version": 3
   },
   "file_extension": ".py",
   "mimetype": "text/x-python",
   "name": "python",
   "nbconvert_exporter": "python",
   "pygments_lexer": "ipython3",
   "version": "3.10.3"
  }
 },
 "nbformat": 4,
 "nbformat_minor": 5
}
